{
 "cells": [
  {
   "cell_type": "code",
   "execution_count": 13,
   "id": "b079722f-c453-456c-88cc-bbf42af5c52c",
   "metadata": {},
   "outputs": [],
   "source": [
    "import pandas as pd\n",
    "import numpy as np\n",
    "import matplotlib.pyplot as plt\n",
    "import seaborn as sns"
   ]
  },
  {
   "cell_type": "code",
   "execution_count": 156,
   "id": "21d17416-6016-4ff3-bb02-02d25986c717",
   "metadata": {},
   "outputs": [
    {
     "name": "stderr",
     "output_type": "stream",
     "text": [
      "<>:1: SyntaxWarning: invalid escape sequence '\\D'\n",
      "<>:1: SyntaxWarning: invalid escape sequence '\\D'\n",
      "C:\\Users\\wiley\\AppData\\Local\\Temp\\ipykernel_59968\\446861417.py:1: SyntaxWarning: invalid escape sequence '\\D'\n",
      "  gdp_df = pd.read_csv(\"C:\\DA12\\Projects\\Python\\data\\gdp_percapita1.csv\")\n"
     ]
    }
   ],
   "source": [
    "gdp_df = pd.read_csv(\"C:\\DA12\\Projects\\Python\\data\\gdp_percapita1.csv\")"
   ]
  },
  {
   "cell_type": "code",
   "execution_count": 17,
   "id": "3629ea1c-9e84-42b5-99d8-a4c1d01c75c6",
   "metadata": {},
   "outputs": [
    {
     "name": "stdout",
     "output_type": "stream",
     "text": [
      "<class 'pandas.core.frame.DataFrame'>\n",
      "RangeIndex: 7662 entries, 0 to 7661\n",
      "Data columns (total 4 columns):\n",
      " #   Column           Non-Null Count  Dtype  \n",
      "---  ------           --------------  -----  \n",
      " 0   Country or Area  7662 non-null   object \n",
      " 1   Year             7662 non-null   int64  \n",
      " 2   Value            7662 non-null   float64\n",
      " 3   Value Footnotes  0 non-null      float64\n",
      "dtypes: float64(2), int64(1), object(1)\n",
      "memory usage: 239.6+ KB\n"
     ]
    }
   ],
   "source": [
    "gdp_df.info()"
   ]
  },
  {
   "cell_type": "markdown",
   "id": "b9fa28e5-ff06-4aac-8910-795cf845378b",
   "metadata": {},
   "source": [
    "## -- There are 4 columns and 4 rows in this dataset. The data types are floats, integers. "
   ]
  },
  {
   "cell_type": "code",
   "execution_count": 20,
   "id": "909a1fc0-c1ca-4834-843f-fcedc30637b8",
   "metadata": {},
   "outputs": [
    {
     "data": {
      "text/html": [
       "<div>\n",
       "<style scoped>\n",
       "    .dataframe tbody tr th:only-of-type {\n",
       "        vertical-align: middle;\n",
       "    }\n",
       "\n",
       "    .dataframe tbody tr th {\n",
       "        vertical-align: top;\n",
       "    }\n",
       "\n",
       "    .dataframe thead th {\n",
       "        text-align: right;\n",
       "    }\n",
       "</style>\n",
       "<table border=\"1\" class=\"dataframe\">\n",
       "  <thead>\n",
       "    <tr style=\"text-align: right;\">\n",
       "      <th></th>\n",
       "      <th>Country or Area</th>\n",
       "      <th>Year</th>\n",
       "      <th>Value</th>\n",
       "    </tr>\n",
       "  </thead>\n",
       "  <tbody>\n",
       "    <tr>\n",
       "      <th>0</th>\n",
       "      <td>Afghanistan</td>\n",
       "      <td>2021</td>\n",
       "      <td>1517.016266</td>\n",
       "    </tr>\n",
       "    <tr>\n",
       "      <th>1</th>\n",
       "      <td>Afghanistan</td>\n",
       "      <td>2020</td>\n",
       "      <td>1968.341002</td>\n",
       "    </tr>\n",
       "    <tr>\n",
       "      <th>2</th>\n",
       "      <td>Afghanistan</td>\n",
       "      <td>2019</td>\n",
       "      <td>2079.921861</td>\n",
       "    </tr>\n",
       "    <tr>\n",
       "      <th>3</th>\n",
       "      <td>Afghanistan</td>\n",
       "      <td>2018</td>\n",
       "      <td>2060.698973</td>\n",
       "    </tr>\n",
       "    <tr>\n",
       "      <th>4</th>\n",
       "      <td>Afghanistan</td>\n",
       "      <td>2017</td>\n",
       "      <td>2096.093111</td>\n",
       "    </tr>\n",
       "    <tr>\n",
       "      <th>...</th>\n",
       "      <td>...</td>\n",
       "      <td>...</td>\n",
       "      <td>...</td>\n",
       "    </tr>\n",
       "    <tr>\n",
       "      <th>7657</th>\n",
       "      <td>Zimbabwe</td>\n",
       "      <td>1994</td>\n",
       "      <td>2670.106615</td>\n",
       "    </tr>\n",
       "    <tr>\n",
       "      <th>7658</th>\n",
       "      <td>Zimbabwe</td>\n",
       "      <td>1993</td>\n",
       "      <td>2458.783255</td>\n",
       "    </tr>\n",
       "    <tr>\n",
       "      <th>7659</th>\n",
       "      <td>Zimbabwe</td>\n",
       "      <td>1992</td>\n",
       "      <td>2468.278257</td>\n",
       "    </tr>\n",
       "    <tr>\n",
       "      <th>7660</th>\n",
       "      <td>Zimbabwe</td>\n",
       "      <td>1991</td>\n",
       "      <td>2781.787843</td>\n",
       "    </tr>\n",
       "    <tr>\n",
       "      <th>7661</th>\n",
       "      <td>Zimbabwe</td>\n",
       "      <td>1990</td>\n",
       "      <td>2704.757299</td>\n",
       "    </tr>\n",
       "  </tbody>\n",
       "</table>\n",
       "<p>7662 rows × 3 columns</p>\n",
       "</div>"
      ],
      "text/plain": [
       "     Country or Area  Year        Value\n",
       "0        Afghanistan  2021  1517.016266\n",
       "1        Afghanistan  2020  1968.341002\n",
       "2        Afghanistan  2019  2079.921861\n",
       "3        Afghanistan  2018  2060.698973\n",
       "4        Afghanistan  2017  2096.093111\n",
       "...              ...   ...          ...\n",
       "7657        Zimbabwe  1994  2670.106615\n",
       "7658        Zimbabwe  1993  2458.783255\n",
       "7659        Zimbabwe  1992  2468.278257\n",
       "7660        Zimbabwe  1991  2781.787843\n",
       "7661        Zimbabwe  1990  2704.757299\n",
       "\n",
       "[7662 rows x 3 columns]"
      ]
     },
     "execution_count": 20,
     "metadata": {},
     "output_type": "execute_result"
    }
   ],
   "source": [
    "gdp_df.drop('Value Footnotes' ,axis =1)"
   ]
  },
  {
   "cell_type": "code",
   "execution_count": 40,
   "id": "ec46a67e-cd48-412f-b4d6-8c8da458d8b7",
   "metadata": {},
   "outputs": [
    {
     "name": "stdout",
     "output_type": "stream",
     "text": [
      "          Country  Year   GDP_Per_Capita\n",
      "0     Afghanistan  2021      1517.016266\n",
      "1     Afghanistan  2020      1968.341002\n",
      "2     Afghanistan  2019      2079.921861\n",
      "3     Afghanistan  2018      2060.698973\n",
      "4     Afghanistan  2017      2096.093111\n",
      "...           ...   ...              ...\n",
      "7657     Zimbabwe  1994      2670.106615\n",
      "7658     Zimbabwe  1993      2458.783255\n",
      "7659     Zimbabwe  1992      2468.278257\n",
      "7660     Zimbabwe  1991      2781.787843\n",
      "7661     Zimbabwe  1990      2704.757299\n",
      "\n",
      "[7662 rows x 3 columns]\n"
     ]
    }
   ],
   "source": [
    "gd = gdp_df.drop('Value Footnotes' ,axis =1)\n",
    "gd_rename = gd.rename(columns={'Country or Area' : 'Country', 'Year' : 'Year' , 'Value' : ' GDP_Per_Capita'})\n",
    "print(gd_rename)"
   ]
  },
  {
   "cell_type": "code",
   "execution_count": 111,
   "id": "db41543a-f74d-4ecd-bd5e-7ed1684acf4f",
   "metadata": {},
   "outputs": [
    {
     "data": {
      "text/html": [
       "<div>\n",
       "<style scoped>\n",
       "    .dataframe tbody tr th:only-of-type {\n",
       "        vertical-align: middle;\n",
       "    }\n",
       "\n",
       "    .dataframe tbody tr th {\n",
       "        vertical-align: top;\n",
       "    }\n",
       "\n",
       "    .dataframe thead th {\n",
       "        text-align: right;\n",
       "    }\n",
       "</style>\n",
       "<table border=\"1\" class=\"dataframe\">\n",
       "  <thead>\n",
       "    <tr style=\"text-align: right;\">\n",
       "      <th></th>\n",
       "      <th>Country or Area</th>\n",
       "      <th>Year</th>\n",
       "      <th>Value</th>\n",
       "    </tr>\n",
       "  </thead>\n",
       "  <tbody>\n",
       "    <tr>\n",
       "      <th>0</th>\n",
       "      <td>Afghanistan</td>\n",
       "      <td>2021</td>\n",
       "      <td>1517.016266</td>\n",
       "    </tr>\n",
       "    <tr>\n",
       "      <th>1</th>\n",
       "      <td>Afghanistan</td>\n",
       "      <td>2020</td>\n",
       "      <td>1968.341002</td>\n",
       "    </tr>\n",
       "    <tr>\n",
       "      <th>2</th>\n",
       "      <td>Afghanistan</td>\n",
       "      <td>2019</td>\n",
       "      <td>2079.921861</td>\n",
       "    </tr>\n",
       "    <tr>\n",
       "      <th>3</th>\n",
       "      <td>Afghanistan</td>\n",
       "      <td>2018</td>\n",
       "      <td>2060.698973</td>\n",
       "    </tr>\n",
       "    <tr>\n",
       "      <th>4</th>\n",
       "      <td>Afghanistan</td>\n",
       "      <td>2017</td>\n",
       "      <td>2096.093111</td>\n",
       "    </tr>\n",
       "  </tbody>\n",
       "</table>\n",
       "</div>"
      ],
      "text/plain": [
       "  Country or Area  Year        Value\n",
       "0     Afghanistan  2021  1517.016266\n",
       "1     Afghanistan  2020  1968.341002\n",
       "2     Afghanistan  2019  2079.921861\n",
       "3     Afghanistan  2018  2060.698973\n",
       "4     Afghanistan  2017  2096.093111"
      ]
     },
     "execution_count": 111,
     "metadata": {},
     "output_type": "execute_result"
    }
   ],
   "source": [
    "gdp_df.head(5)"
   ]
  },
  {
   "cell_type": "code",
   "execution_count": 113,
   "id": "4d1a40b6-f0ae-44b3-97e2-0899c5e87736",
   "metadata": {},
   "outputs": [
    {
     "name": "stdout",
     "output_type": "stream",
     "text": [
      "     Country or Area  Year        Value\n",
      "0        Afghanistan  2021  1517.016266\n",
      "1        Afghanistan  2020  1968.341002\n",
      "2        Afghanistan  2019  2079.921861\n",
      "3        Afghanistan  2018  2060.698973\n",
      "4        Afghanistan  2017  2096.093111\n",
      "...              ...   ...          ...\n",
      "7657        Zimbabwe  1994  2670.106615\n",
      "7658        Zimbabwe  1993  2458.783255\n",
      "7659        Zimbabwe  1992  2468.278257\n",
      "7660        Zimbabwe  1991  2781.787843\n",
      "7661        Zimbabwe  1990  2704.757299\n",
      "\n",
      "[7662 rows x 3 columns]\n"
     ]
    }
   ],
   "source": [
    "print(gdp_df)"
   ]
  },
  {
   "cell_type": "code",
   "execution_count": 119,
   "id": "b2c57195-9af0-4f57-9bfe-47688d517103",
   "metadata": {},
   "outputs": [
    {
     "name": "stdout",
     "output_type": "stream",
     "text": [
      "False\n"
     ]
    }
   ],
   "source": [
    "print(any(gdp_df.Value ==0 ))"
   ]
  },
  {
   "cell_type": "code",
   "execution_count": 123,
   "id": "9ecfd0da-ff32-41dc-bb79-3d9466bf9ca9",
   "metadata": {},
   "outputs": [
    {
     "name": "stdout",
     "output_type": "stream",
     "text": [
      "      Country or Area   Year  Value\n",
      "0               False  False  False\n",
      "1               False  False  False\n",
      "2               False  False  False\n",
      "3               False  False  False\n",
      "4               False  False  False\n",
      "...               ...    ...    ...\n",
      "7657            False  False  False\n",
      "7658            False  False  False\n",
      "7659            False  False  False\n",
      "7660            False  False  False\n",
      "7661            False  False  False\n",
      "\n",
      "[7662 rows x 3 columns]\n"
     ]
    }
   ],
   "source": [
    "missing_values = gdp_df.isnull()\n",
    "print(missing_values)"
   ]
  },
  {
   "cell_type": "code",
   "execution_count": null,
   "id": "ed4a4512-aaaf-44d8-9947-a73385d116b2",
   "metadata": {},
   "outputs": [],
   "source": [
    "I do not see any countries missing data in this dataset based on the two calculations made above. "
   ]
  },
  {
   "cell_type": "code",
   "execution_count": 139,
   "id": "df37dd66-9015-45b7-ba01-6367a51e1e9b",
   "metadata": {},
   "outputs": [
    {
     "data": {
      "image/png": "[encoded data removed]",
      "text/plain": [
       "<Figure size 640x480 with 1 Axes>"
      ]
     },
     "metadata": {},
     "output_type": "display_data"
    }
   ],
   "source": [
    "gd_rename = gdp_df.rename(columns={'Country or Area' : 'Country', 'Year' : 'Year' , 'Value' : ' GDP_Per_Capita'})\n",
    "plt.hist(gd_rename)\n",
    "plt.xlabel('Year')\n",
    "plt.ylabel('GDP_Per_Capita')\n",
    "plt.show()"
   ]
  },
  {
   "cell_type": "code",
   "execution_count": 158,
   "id": "177aa971-42db-4c12-8b2b-52819e1b533c",
   "metadata": {},
   "outputs": [
    {
     "ename": "ValueError",
     "evalue": "'gdp_df' is not one of the example datasets.",
     "output_type": "error",
     "traceback": [
      "\u001b[1;31m---------------------------------------------------------------------------\u001b[0m",
      "\u001b[1;31mValueError\u001b[0m                                Traceback (most recent call last)",
      "Cell \u001b[1;32mIn[158], line 1\u001b[0m\n\u001b[1;32m----> 1\u001b[0m data \u001b[38;5;241m=\u001b[39m sns\u001b[38;5;241m.\u001b[39mload_dataset(\u001b[38;5;124m'\u001b[39m\u001b[38;5;124mgdp_df\u001b[39m\u001b[38;5;124m'\u001b[39m)\n\u001b[0;32m      2\u001b[0m data[\u001b[38;5;124m'\u001b[39m\u001b[38;5;124mValue\u001b[39m\u001b[38;5;124m'\u001b[39m]\u001b[38;5;241m.\u001b[39mplot\u001b[38;5;241m.\u001b[39mdensity(year\u001b[38;5;241m=\u001b[39m\u001b[38;5;124m'\u001b[39m\u001b[38;5;124m2020\u001b[39m\u001b[38;5;124m'\u001b[39m)\n\u001b[0;32m      3\u001b[0m plt\u001b[38;5;241m.\u001b[39mtitle(\u001b[38;5;124m'\u001b[39m\u001b[38;5;124mGDP_Per_Capita_2020\u001b[39m\u001b[38;5;124m'\u001b[39m)\n",
      "File \u001b[1;32m~\\anaconda3\\Lib\\site-packages\\seaborn\\utils.py:573\u001b[0m, in \u001b[0;36mload_dataset\u001b[1;34m(name, cache, data_home, **kws)\u001b[0m\n\u001b[0;32m    571\u001b[0m \u001b[38;5;28;01mif\u001b[39;00m \u001b[38;5;129;01mnot\u001b[39;00m os\u001b[38;5;241m.\u001b[39mpath\u001b[38;5;241m.\u001b[39mexists(cache_path):\n\u001b[0;32m    572\u001b[0m     \u001b[38;5;28;01mif\u001b[39;00m name \u001b[38;5;129;01mnot\u001b[39;00m \u001b[38;5;129;01min\u001b[39;00m get_dataset_names():\n\u001b[1;32m--> 573\u001b[0m         \u001b[38;5;28;01mraise\u001b[39;00m \u001b[38;5;167;01mValueError\u001b[39;00m(\u001b[38;5;124mf\u001b[39m\u001b[38;5;124m\"\u001b[39m\u001b[38;5;124m'\u001b[39m\u001b[38;5;132;01m{\u001b[39;00mname\u001b[38;5;132;01m}\u001b[39;00m\u001b[38;5;124m'\u001b[39m\u001b[38;5;124m is not one of the example datasets.\u001b[39m\u001b[38;5;124m\"\u001b[39m)\n\u001b[0;32m    574\u001b[0m     urlretrieve(url, cache_path)\n\u001b[0;32m    575\u001b[0m full_path \u001b[38;5;241m=\u001b[39m cache_path\n",
      "\u001b[1;31mValueError\u001b[0m: 'gdp_df' is not one of the example datasets."
     ]
    }
   ],
   "source": [
    "data = sns.load_dataset('gdp_df')\n",
    "data['Value'].plot.density(year='2020')\n",
    "plt.title('GDP_Per_Capita_2020')\n",
    "plt.show()"
   ]
  },
  {
   "cell_type": "code",
   "execution_count": null,
   "id": "c75c6612-09af-4b45-a8cf-282f74c1f407",
   "metadata": {},
   "outputs": [],
   "source": []
  }
 ],
 "metadata": {
  "kernelspec": {
   "display_name": "Python 3 (ipykernel)",
   "language": "python",
   "name": "python3"
  },
  "language_info": {
   "codemirror_mode": {
    "name": "ipython",
    "version": 3
   },
   "file_extension": ".py",
   "mimetype": "text/x-python",
   "name": "python",
   "nbconvert_exporter": "python",
   "pygments_lexer": "ipython3",
   "version": "3.12.4"
  }
 },
 "nbformat": 4,
 "nbformat_minor": 5
}
